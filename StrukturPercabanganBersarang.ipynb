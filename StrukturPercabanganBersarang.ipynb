{
 "cells": [
  {
   "cell_type": "markdown",
   "metadata": {},
   "source": [
    "# Struktur Percabangan Bersarang (Nested-IF)"
   ]
  },
  {
   "cell_type": "markdown",
   "metadata": {},
   "source": [
    "## Konversi Inputan Angka ke Nama Bulan"
   ]
  },
  {
   "cell_type": "code",
   "execution_count": 1,
   "metadata": {},
   "outputs": [
    {
     "name": "stdout",
     "output_type": "stream",
     "text": [
      "Masukkan angka dengan rentang 1 sampai 12: 4\n"
     ]
    }
   ],
   "source": [
    "input_angka = int(input(\"Masukkan angka dengan rentang 1 sampai 12: \"))"
   ]
  },
  {
   "cell_type": "code",
   "execution_count": 2,
   "metadata": {},
   "outputs": [
    {
     "name": "stdout",
     "output_type": "stream",
     "text": [
      "April\n",
      "Selesai\n"
     ]
    }
   ],
   "source": [
    "if input_angka < 0 :\n",
    "    print (\"Angka terlalu kecil, mohon periksa kembali\")\n",
    "elif input_angka == 1 :\n",
    "    print (\"Januari\")\n",
    "elif input_angka == 2 :\n",
    "    print (\"Februari\")\n",
    "elif input_angka == 3 :\n",
    "    print (\"Maret\")\n",
    "elif input_angka == 4 :\n",
    "    print (\"April\")\n",
    "elif input_angka == 5 :\n",
    "    print (\"Mei\")\n",
    "elif input_angka == 6 :\n",
    "    print (\"Juni\")\n",
    "elif input_angka == 7 :\n",
    "    print (\"Juli\")\n",
    "elif input_angka == 8 :\n",
    "    print (\"Agustus\")\n",
    "elif input_angka == 9 :\n",
    "    print (\"September\")\n",
    "elif input_angka == 10 :\n",
    "    print (\"Oktober\")\n",
    "elif input_angka == 11 :\n",
    "    print (\"November\")\n",
    "elif input_angka == 12 :\n",
    "    print (\"Desember\")\n",
    "else :\n",
    "    print (\"Angka terlalu besar, mohon periksa kembali\")\n",
    "print (\"Selesai\")"
   ]
  },
  {
   "cell_type": "markdown",
   "metadata": {},
   "source": [
    "## Aritmatika"
   ]
  },
  {
   "cell_type": "code",
   "execution_count": 3,
   "metadata": {},
   "outputs": [
    {
     "name": "stdout",
     "output_type": "stream",
     "text": [
      "Masukkan digit pertama: 20\n"
     ]
    }
   ],
   "source": [
    "input_nilai_1 = float(input(\"Masukkan digit pertama: \"))"
   ]
  },
  {
   "cell_type": "code",
   "execution_count": 4,
   "metadata": {},
   "outputs": [
    {
     "name": "stdout",
     "output_type": "stream",
     "text": [
      "Silahkan pilih operasi (pilihan operasi: tambah, kurang, bagi, kali): tambah\n"
     ]
    }
   ],
   "source": [
    "operasi = str(input(\"Silahkan pilih operasi (pilihan operasi: tambah, kurang, bagi, kali): \"))"
   ]
  },
  {
   "cell_type": "code",
   "execution_count": 5,
   "metadata": {},
   "outputs": [
    {
     "name": "stdout",
     "output_type": "stream",
     "text": [
      "Masukkan digit kedua: 2\n"
     ]
    }
   ],
   "source": [
    "input_nilai_2 = float(input(\"Masukkan digit kedua: \"))"
   ]
  },
  {
   "cell_type": "code",
   "execution_count": 6,
   "metadata": {},
   "outputs": [
    {
     "name": "stdout",
     "output_type": "stream",
     "text": [
      "22.0\n"
     ]
    }
   ],
   "source": [
    "def tambahkan() :\n",
    "    hasil = input_nilai_1 + input_nilai_2\n",
    "    print (hasil)\n",
    "def kurangkan () :\n",
    "    hasil = input_nilai_1 - input_nilai_2\n",
    "    print (hasil)\n",
    "def bagikan () :\n",
    "    hasil = input_nilai_1 / input_nilai_1\n",
    "    print (hasil)\n",
    "def kalikan () :\n",
    "    hasil = input_nilai_1 * input_nilai_1\n",
    "    print (hasil)\n",
    "case = { 'tambah' : tambahkan,\n",
    "         'kurang' : kurangkan,\n",
    "         'bagi'   : bagikan,\n",
    "         'kali'   : kalikan    \n",
    "}\n",
    "case[operasi]()"
   ]
  },
  {
   "cell_type": "markdown",
   "metadata": {},
   "source": [
    "## Mencari Akar-akar Persamaan Kuadrat"
   ]
  },
  {
   "cell_type": "code",
   "execution_count": 7,
   "metadata": {},
   "outputs": [
    {
     "name": "stdout",
     "output_type": "stream",
     "text": [
      "Masukkan nilai a: 1\n"
     ]
    }
   ],
   "source": [
    "input_nilai_a = int(input(\"Masukkan nilai a: \"))"
   ]
  },
  {
   "cell_type": "code",
   "execution_count": 8,
   "metadata": {},
   "outputs": [
    {
     "name": "stdout",
     "output_type": "stream",
     "text": [
      "Masukkan nilai b: -7\n"
     ]
    }
   ],
   "source": [
    "input_nilai_b = int(input(\"Masukkan nilai b: \"))"
   ]
  },
  {
   "cell_type": "code",
   "execution_count": 9,
   "metadata": {},
   "outputs": [
    {
     "name": "stdout",
     "output_type": "stream",
     "text": [
      "Masukkan nilai c: -8\n"
     ]
    }
   ],
   "source": [
    "input_nilai_c = int(input(\"Masukkan nilai c: \"))"
   ]
  },
  {
   "cell_type": "code",
   "execution_count": 10,
   "metadata": {},
   "outputs": [],
   "source": [
    "operasi_d = (input_nilai_b*input_nilai_b)-(4*input_nilai_a*input_nilai_c)"
   ]
  },
  {
   "cell_type": "code",
   "execution_count": 11,
   "metadata": {},
   "outputs": [
    {
     "name": "stdout",
     "output_type": "stream",
     "text": [
      "Nilai diskriminan adalah (d): 81\n"
     ]
    }
   ],
   "source": [
    "print (\"Nilai diskriminan adalah (d):\",operasi_d)"
   ]
  },
  {
   "cell_type": "code",
   "execution_count": 12,
   "metadata": {},
   "outputs": [
    {
     "data": {
      "text/plain": [
       "<function math.sqrt(x, /)>"
      ]
     },
     "execution_count": 12,
     "metadata": {},
     "output_type": "execute_result"
    }
   ],
   "source": [
    "import math\n",
    "math.sqrt"
   ]
  },
  {
   "cell_type": "code",
   "execution_count": 14,
   "metadata": {},
   "outputs": [
    {
     "name": "stdout",
     "output_type": "stream",
     "text": [
      "Akar 1 = 8.0\n",
      "Akar 2 = -1.0\n"
     ]
    }
   ],
   "source": [
    "if operasi_d<0:\n",
    "    akar_1 = (-input_nilai_b/(2*input_nilai_a)) + math.sqrt (-operasi_d)/(2*input_nilai_a)\n",
    "    akar_2 = (-input_nilai_b/(2*input_nilai_a)) - math.sqrt (-operasi_d)/(2*input_nilai_a)\n",
    "    print(\"Akar 1 =\",akar_1)\n",
    "    print(\"Akar 2 =\",akar_2)\n",
    "elif operasi_d==0:\n",
    "    akar = -input_nilai_b/(2*input_nilai_a)\n",
    "    print(\"Akar 1 dan akar 2 =\",akar)\n",
    "elif operasi_d>0:\n",
    "    akar_1 = (-input_nilai_b/(2*input_nilai_a)) + math.sqrt (operasi_d)/(2*input_nilai_a)\n",
    "    akar_2 = (-input_nilai_b/(2*input_nilai_a)) - math.sqrt (operasi_d)/(2*input_nilai_a)\n",
    "    print(\"Akar 1 =\",akar_1)\n",
    "    print(\"Akar 2 =\",akar_2)\n",
    "else :\n",
    "    print(\"Tidak valid\")"
   ]
  },
  {
   "cell_type": "markdown",
   "metadata": {},
   "source": [
    "## --------------------------------------IBNU ZAHY ' ATHA ILLAH"
   ]
  }
 ],
 "metadata": {
  "kernelspec": {
   "display_name": "Python 3",
   "language": "python",
   "name": "python3"
  },
  "language_info": {
   "codemirror_mode": {
    "name": "ipython",
    "version": 3
   },
   "file_extension": ".py",
   "mimetype": "text/x-python",
   "name": "python",
   "nbconvert_exporter": "python",
   "pygments_lexer": "ipython3",
   "version": "3.8.3"
  }
 },
 "nbformat": 4,
 "nbformat_minor": 4
}
